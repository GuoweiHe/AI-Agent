{
 "cells": [
  {
   "cell_type": "code",
   "execution_count": null,
   "id": "e0ea80e6",
   "metadata": {},
   "outputs": [],
   "source": [
    "from IPython.display import display, HTML, clear_output\n",
    "from openai import OpenAI\n",
    "\n",
    "import json\n",
    "import ipywidgets as widgets\n",
    "import os\n",
    "\n",
    "# api_key=\"\""
   ]
  },
  {
   "cell_type": "code",
   "execution_count": null,
   "id": "9dd8ada2",
   "metadata": {},
   "outputs": [],
   "source": [
    "system_prompt = \"\"\"You are an AI agent. You can only do the following tasks:\n",
    "1. Modify a text file.\n",
    "\n",
    "You can only output a json with the following format:\n",
    "{\n",
    "    \"action\": \"modify_file\",\n",
    "    \"file_path\": \"path/to/file.txt\",\n",
    "    \"content\": \"new content\"\n",
    "}\n",
    "In the action field, it can only have the following values:\n",
    "1. modify_file\n",
    "2. no_action\n",
    "\n",
    "Let me give you some examples:\n",
    "\n",
    "Example 1:\n",
    "User input: \"Add abcde to the file test.txt\"\n",
    "In this example, user want to modify a file, so, you should output:\n",
    "{\n",
    "    \"action\": \"modify_file\",\n",
    "    \"file_path\": \"test.txt\",\n",
    "    \"content\": \"abded\"\n",
    "}\n",
    "\n",
    "Example 2:\n",
    "User input: \"Write a one-sentence bedtime story about a unicorn\"\n",
    "In this example, user does not want to modify a file, so, you should output:\n",
    "{\n",
    "    \"action\": \"no_action\",\n",
    "    \"reason\": \"I cannot understand the user's input\"\n",
    "}\n",
    "\n",
    "If you cannot understand the user's input, you can output:\n",
    "{\n",
    "    \"action\": \"no_action\",\n",
    "    \"reason\": \"I cannot understand the user's input\"\n",
    "}\n",
    "\n",
    "Now, I give you the user input, please generate output accordingly.\n",
    "Here is the user input: \n",
    "\"\"\""
   ]
  },
  {
   "cell_type": "code",
   "execution_count": null,
   "id": "73031646",
   "metadata": {},
   "outputs": [],
   "source": [
    "def modify_file(file_path, content):\n",
    "    with open(file_path, 'a') as f:\n",
    "        f.write(content)\n",
    "\n",
    "def llm(user_prompt):\n",
    "    client = OpenAI()\n",
    "    response = client.responses.create(\n",
    "        model=\"gpt-5-nano\",\n",
    "        input=system_prompt + \" \" + user_prompt\n",
    "    )\n",
    "    return response.output_text\n",
    "\n",
    "def handle_task(task_in_str):\n",
    "    task_in_json = json.loads(task_in_str)\n",
    "    if task_in_json['action'] == 'modify_file':\n",
    "        modify_file(task_in_json['file_path'], task_in_json['content'])"
   ]
  },
  {
   "cell_type": "code",
   "execution_count": 12,
   "id": "2f32c1fb-a1d1-4428-8f6c-1d4519c87343",
   "metadata": {},
   "outputs": [
    {
     "data": {
      "application/vnd.jupyter.widget-view+json": {
       "model_id": "5dc79fafe8ab4bb6b1b312d3577c4aba",
       "version_major": 2,
       "version_minor": 0
      },
      "text/plain": [
       "VBox(children=(HTML(value='<h1>AI Agent</h1><p></p>'), HBox(children=(ToggleButton(value=False, button_style='…"
      ]
     },
     "metadata": {},
     "output_type": "display_data"
    }
   ],
   "source": [
    "def create_interactive_interface():\n",
    "    # Create input widget\n",
    "    text_input = widgets.Text(\n",
    "        value='',\n",
    "        placeholder='Enter text here',\n",
    "        description='Input:',\n",
    "        style={'description_width': 'initial'}\n",
    "    )\n",
    "\n",
    "    button_1 = widgets.ToggleButton(\n",
    "        description='Earning',\n",
    "        button_style='primary',\n",
    "        layout=widgets.Layout(width='100px')\n",
    "    )\n",
    "    button_2 = widgets.ToggleButton(\n",
    "        description='Stock Price',\n",
    "        button_style='primary',\n",
    "        layout=widgets.Layout(width='100px')\n",
    "    )\n",
    "\n",
    "    def on_toggle(change):\n",
    "        if change['owner'] == button_1 and change['new']:\n",
    "            button_2.value = False\n",
    "        elif change['owner'] == button_2 and change['new']:\n",
    "            button_1.value = False\n",
    "    button_1.observe(on_toggle, names='value')\n",
    "    button_2.observe(on_toggle, names='value')\n",
    "    button_box = widgets.HBox([button_1, button_2])\n",
    "    \n",
    "    # Create output area\n",
    "    output_area = widgets.Output()\n",
    "    \n",
    "    def on_button_click(b):\n",
    "        print(button_1.value)\n",
    "        print(button_2.value)\n",
    "        with output_area:\n",
    "            clear_output(wait=True)\n",
    "            user_input = text_input.value\n",
    "            response = llm(user_input)\n",
    "            handle_task(response)\n",
    "            print(f\"Result: {response}\")\n",
    "    button = widgets.Button(\n",
    "        description='Submit',\n",
    "        button_style='primary',\n",
    "        layout=widgets.Layout(width='100px')\n",
    "    )\n",
    "    button.on_click(on_button_click)\n",
    "    \n",
    "    # Display the interface\n",
    "    display(widgets.VBox([\n",
    "        widgets.HTML(\"<h1>AI Agent</h1><p></p>\"),\n",
    "        button_box,\n",
    "        text_input,\n",
    "        button,\n",
    "        output_area\n",
    "    ]))\n",
    "\n",
    "create_interactive_interface()"
   ]
  }
 ],
 "metadata": {
  "kernelspec": {
   "display_name": "base",
   "language": "python",
   "name": "python3"
  },
  "language_info": {
   "codemirror_mode": {
    "name": "ipython",
    "version": 3
   },
   "file_extension": ".py",
   "mimetype": "text/x-python",
   "name": "python",
   "nbconvert_exporter": "python",
   "pygments_lexer": "ipython3",
   "version": "3.13.7"
  }
 },
 "nbformat": 4,
 "nbformat_minor": 5
}
